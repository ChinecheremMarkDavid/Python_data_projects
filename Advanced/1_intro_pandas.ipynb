{
 "cells": [
  {
   "cell_type": "code",
   "execution_count": null,
   "id": "f5cb4406-77bf-4554-a5ac-892a4ab01d8c",
   "metadata": {},
   "outputs": [],
   "source": [
    "salary = 100000"
   ]
  },
  {
   "cell_type": "code",
   "execution_count": null,
   "id": "b05f41e2-4820-4010-a747-ca21196a4bd3",
   "metadata": {},
   "outputs": [],
   "source": [
    "print(salary)"
   ]
  },
  {
   "cell_type": "code",
   "execution_count": null,
   "id": "e6fba7e6-d70a-4883-89fa-aa767a7d0d3e",
   "metadata": {},
   "outputs": [],
   "source": [
    "type(salary)"
   ]
  },
  {
   "cell_type": "code",
   "execution_count": null,
   "id": "253084c6-a9ac-4217-a492-967369c13445",
   "metadata": {},
   "outputs": [],
   "source": [
    "name = 'mark'"
   ]
  },
  {
   "cell_type": "code",
   "execution_count": null,
   "id": "f04686ed-bad1-4300-bef3-56f3a79d6d27",
   "metadata": {},
   "outputs": [],
   "source": [
    "print(name)"
   ]
  },
  {
   "cell_type": "code",
   "execution_count": null,
   "id": "259304ac-686e-4ed9-954c-10469c10fc65",
   "metadata": {},
   "outputs": [],
   "source": [
    "name.upper()"
   ]
  },
  {
   "cell_type": "code",
   "execution_count": null,
   "id": "21d1b2a6-9e0f-4160-92af-04da29fc87bd",
   "metadata": {},
   "outputs": [],
   "source": [
    "def print_board(board):\n",
    "    \"\"\"Prints the Tic-Tac-Toe board.\"\"\"\n",
    "    print(f\"{board[0]} | {board[1]} | {board[2]}\")\n",
    "    print(\"--+---+--\")\n",
    "    print(f\"{board[3]} | {board[4]} | {board[5]}\")\n",
    "    print(\"--+---+--\")\n",
    "    print(f\"{board[6]} | {board[7]} | {board[8]}\")\n",
    "    print()\n",
    "\n",
    "def check_win(board, player):\n",
    "    \"\"\"Checks if the given player has won.\"\"\"\n",
    "    win_conditions = [\n",
    "        [0, 1, 2], [3, 4, 5], [6, 7, 8],  # Rows\n",
    "        [0, 3, 6], [1, 4, 7], [2, 5, 8],  # Columns\n",
    "        [0, 4, 8], [2, 4, 6]              # Diagonals\n",
    "    ]\n",
    "    for condition in win_conditions:\n",
    "        if board[condition[0]] == board[condition[1]] == board[condition[2]] == player:\n",
    "            return True\n",
    "    return False\n",
    "\n",
    "def check_draw(board):\n",
    "    \"\"\"Checks if the game is a draw.\"\"\"\n",
    "    return all([spot != \" \" for spot in board])\n",
    "\n",
    "def tic_tac_toe():\n",
    "    \"\"\"Main function to run the Tic-Tac-Toe game.\"\"\"\n",
    "    board = [\" \"] * 9\n",
    "    current_player = \"X\"\n",
    "\n",
    "    while True:\n",
    "        print_board(board)\n",
    "        try:\n",
    "            move = int(input(f\"Player {current_player}, enter your move (1-9): \")) - 1\n",
    "        except ValueError:\n",
    "            print(\"Invalid input! Please enter a number between 1 and 9.\")\n",
    "            continue\n",
    "\n",
    "        if move < 0 or move >= 9 or board[move] != \" \":\n",
    "            print(\"Invalid move! Try again.\")\n",
    "            continue\n",
    "\n",
    "        board[move] = current_player\n",
    "\n",
    "        if check_win(board, current_player):\n",
    "            print_board(board)\n",
    "            print(f\"Player {current_player} wins!\")\n",
    "            break\n",
    "\n",
    "        if check_draw(board):\n",
    "            print_board(board)\n",
    "            print(\"It's a draw!\")\n",
    "            break\n",
    "\n",
    "        current_player = \"O\" if current_player == \"X\" else \"X\"\n",
    "\n",
    "if __name__ == \"__main__\":\n",
    "    tic_tac_toe()\n"
   ]
  },
  {
   "cell_type": "code",
   "execution_count": null,
   "id": "2078647f-d2c3-418c-b826-fc04836b2e14",
   "metadata": {},
   "outputs": [],
   "source": [
    "min_salary = 20_000\n",
    "max_salary = 80_000"
   ]
  },
  {
   "cell_type": "code",
   "execution_count": null,
   "id": "a8adabbf-83bb-4b7d-996a-a4780acaa6ba",
   "metadata": {},
   "outputs": [],
   "source": [
    "avg_salary = (min_salary + max_salary) / 2\n",
    "print(avg_salary)"
   ]
  },
  {
   "cell_type": "code",
   "execution_count": null,
   "id": "33e20527-6215-4bdb-b0c7-5770c7788bf5",
   "metadata": {},
   "outputs": [],
   "source": [
    "ages = [19, 22, 19, 24, 20, 25, 26, 24, 25, 24]"
   ]
  },
  {
   "cell_type": "code",
   "execution_count": null,
   "id": "72ab40a2-a4c6-421c-9169-78f0757243aa",
   "metadata": {},
   "outputs": [],
   "source": [
    "sum(int(ages)) / 2"
   ]
  },
  {
   "cell_type": "code",
   "execution_count": null,
   "id": "1383e54c-77fe-4a08-a11f-a5bef3c85731",
   "metadata": {},
   "outputs": [],
   "source": [
    "x = sorted(ages)\n",
    "x"
   ]
  },
  {
   "cell_type": "code",
   "execution_count": null,
   "id": "a2494667-73cd-4a89-a43c-5c0a53a38189",
   "metadata": {},
   "outputs": [],
   "source": [
    "help(list)"
   ]
  },
  {
   "cell_type": "code",
   "execution_count": null,
   "id": "d2e1aac7-414b-4008-a553-d381a2b9780e",
   "metadata": {},
   "outputs": [],
   "source": [
    "jobList = [\n",
    "    \"Data Analyst\",\n",
    "    \"Data Scientist\",\n",
    "    \"Data Engineer\",\n",
    "    \"Machine Learning Engineer\",\n",
    "    \"Business Intelligence Analyst\",\n",
    "    \"Database Administrator\",\n",
    "    \"Data Architect\",\n",
    "    \"Data Consultant\",\n",
    "    \"Data Visualization Specialist\",\n",
    "    \"Quantitative Analyst\",\n",
    "    \"Statistician\",\n",
    "    \"Data Product Manager\",\n",
    "    \"Data Governance Specialist\",\n",
    "    \"Data Quality Analyst\",\n",
    "    \"Big Data Engineer\",\n",
    "    \"Analytics Manager\",\n",
    "    \"Data Operations Specialist\",\n",
    "    \"Data Warehouse Developer\",\n",
    "    \"AI Research Scientist\",\n",
    "    \"ETL Developer\"\n",
    "]\n"
   ]
  },
  {
   "cell_type": "code",
   "execution_count": null,
   "id": "2c400507-c0f9-4cb2-af36-828d9031e44a",
   "metadata": {},
   "outputs": [],
   "source": [
    "jobList"
   ]
  },
  {
   "cell_type": "code",
   "execution_count": null,
   "id": "5a20054b-8154-4e11-8205-3a0b5c974ef3",
   "metadata": {},
   "outputs": [],
   "source": [
    "data = [job for job in jobList if 'Data' in job]\n",
    "data"
   ]
  },
  {
   "cell_type": "code",
   "execution_count": null,
   "id": "bcb3d46b-d227-463f-87cb-1e9f529a7737",
   "metadata": {},
   "outputs": [],
   "source": [
    "def add_two_nums(a,b):\n",
    "    return(a+b)"
   ]
  },
  {
   "cell_type": "code",
   "execution_count": null,
   "id": "a1d24ad5-449e-4f72-8df7-00d361567d16",
   "metadata": {},
   "outputs": [],
   "source": [
    "add_two_nums(18, 24)"
   ]
  },
  {
   "cell_type": "code",
   "execution_count": null,
   "id": "1e614194-05d3-4b19-b3e2-055093cf5856",
   "metadata": {},
   "outputs": [],
   "source": [
    "add_two_nums = lambda a,b : a+b"
   ]
  },
  {
   "cell_type": "code",
   "execution_count": null,
   "id": "142d8a32-c2fd-4101-944a-f8420be00b15",
   "metadata": {},
   "outputs": [],
   "source": [
    "add_two_nums(15,15)"
   ]
  },
  {
   "cell_type": "code",
   "execution_count": null,
   "id": "2db5e493-179f-4ef5-a741-0d8b6215cd88",
   "metadata": {},
   "outputs": [],
   "source": [
    "square = lambda x : x*2\n",
    "square(5)"
   ]
  },
  {
   "cell_type": "code",
   "execution_count": null,
   "id": "09671222-7c63-4531-96e5-5d5f7065fbd2",
   "metadata": {},
   "outputs": [],
   "source": [
    "job_data = [\n",
    "    {\n",
    "        \"job_title\": \"Data Scientist\",\n",
    "        \"job_skills\": [\"Python\", \"Machine Learning\", \"Data Analysis\", \"SQL\"],\n",
    "        \"remote\": True\n",
    "    },\n",
    "    {\n",
    "        \"job_title\": \"Data Engineer\",\n",
    "        \"job_skills\": [\"ETL\", \"Big Data\", \"AWS\", \"Python\"],\n",
    "        \"remote\": False\n",
    "    },\n",
    "    {\n",
    "        \"job_title\": \"Machine Learning Engineer\",\n",
    "        \"job_skills\": [\"TensorFlow\", \"PyTorch\", \"Python\", \"Model Deployment\"],\n",
    "        \"remote\": True\n",
    "    },\n",
    "    {\n",
    "        \"job_title\": \"Data Analyst\",\n",
    "        \"job_skills\": [\"Excel\", \"SQL\", \"Tableau\", \"Data Visualization\"],\n",
    "        \"remote\": False\n",
    "    },\n",
    "    {\n",
    "        \"job_title\": \"Business Intelligence Analyst\",\n",
    "        \"job_skills\": [\"Power BI\", \"SQL\", \"Data Modeling\", \"Excel\"],\n",
    "        \"remote\": True\n",
    "    },\n",
    "    {\n",
    "        \"job_title\": \"Database Administrator\",\n",
    "        \"job_skills\": [\"SQL\", \"Database Management\", \"Backup & Recovery\", \"Oracle\"],\n",
    "        \"remote\": False\n",
    "    },\n",
    "    {\n",
    "        \"job_title\": \"Data Architect\",\n",
    "        \"job_skills\": [\"Data Modeling\", \"Data Warehousing\", \"SQL\", \"AWS\"],\n",
    "        \"remote\": True\n",
    "    },\n",
    "    {\n",
    "        \"job_title\": \"Data Consultant\",\n",
    "        \"job_skills\": [\"Data Strategy\", \"Data Governance\", \"SQL\", \"Client Management\"],\n",
    "        \"remote\": True\n",
    "    },\n",
    "    {\n",
    "        \"job_title\": \"Data Visualization Specialist\",\n",
    "        \"job_skills\": [\"Tableau\", \"Power BI\", \"Data Analysis\", \"Python\"],\n",
    "        \"remote\": False\n",
    "    },\n",
    "    {\n",
    "        \"job_title\": \"Quantitative Analyst\",\n",
    "        \"job_skills\": [\"Mathematics\", \"R\", \"Python\", \"Statistics\"],\n",
    "        \"remote\": False\n",
    "    }\n",
    "]\n"
   ]
  },
  {
   "cell_type": "code",
   "execution_count": null,
   "id": "a4ff615c-75f2-4e21-b191-47c835d7c65b",
   "metadata": {},
   "outputs": [],
   "source": [
    "job_data"
   ]
  },
  {
   "cell_type": "code",
   "execution_count": null,
   "id": "95f2cabd-7608-468e-a2ea-56c031b2c786",
   "metadata": {},
   "outputs": [],
   "source": [
    "list(filter( lambda job: job['remote'] and 'Python' in job['job_skills'], job_data))"
   ]
  },
  {
   "cell_type": "code",
   "execution_count": null,
   "id": "2543cdfb-a43f-4a5e-bedd-c9b59f74a04f",
   "metadata": {},
   "outputs": [],
   "source": []
  },
  {
   "cell_type": "code",
   "execution_count": null,
   "id": "b1714ad3-8564-4d5e-99ad-dcdf084791e7",
   "metadata": {},
   "outputs": [],
   "source": [
    "from datetime import datetime"
   ]
  },
  {
   "cell_type": "code",
   "execution_count": null,
   "id": "607be849-1f00-49f1-b28b-edd61b867c60",
   "metadata": {},
   "outputs": [],
   "source": [
    "datetime.now()"
   ]
  },
  {
   "cell_type": "code",
   "execution_count": null,
   "id": "c582d10f-bae4-4dd8-8cc2-d816781b1338",
   "metadata": {},
   "outputs": [],
   "source": [
    "pip install pyjokes\n"
   ]
  },
  {
   "cell_type": "code",
   "execution_count": null,
   "id": "ddf74072-89b8-4dee-98c2-a530c8c356e4",
   "metadata": {},
   "outputs": [],
   "source": [
    "import pyjokes\n",
    "\n",
    "pyjokes.get_joke()"
   ]
  },
  {
   "cell_type": "code",
   "execution_count": null,
   "id": "095f06e8-5481-4c88-bc20-a0b5588f53cb",
   "metadata": {},
   "outputs": [],
   "source": [
    "class Myclass:\n",
    "    x = 5"
   ]
  },
  {
   "cell_type": "code",
   "execution_count": null,
   "id": "fda5d365-188e-49a5-b301-5530bfe348aa",
   "metadata": {},
   "outputs": [],
   "source": [
    "p1 = Myclass()\n",
    "print(p1.x)"
   ]
  },
  {
   "cell_type": "code",
   "execution_count": null,
   "id": "8c402216-81d9-425c-bd25-c3df63941bb2",
   "metadata": {},
   "outputs": [],
   "source": [
    "class Person:\n",
    "    def __init__(self, name, age, country, state, occupation):\n",
    "        self.name = name\n",
    "        self.age = age\n",
    "        self.country = country\n",
    "        self.state = state\n",
    "        self.occupation = occupation\n",
    "    def __str__(self):\n",
    "        return f\" name is {self.name} and age is {self.age} who lives in {self.state} from {self.country} and works as a {self.occupation}\"\n",
    "\n",
    "p1 = Person('maki', 25, 'nigeria', 'lagos', 'tech-bro')\n",
    "print(p1)"
   ]
  },
  {
   "cell_type": "code",
   "execution_count": null,
   "id": "c2cd68ed-3c79-4272-91f8-3716f9a1a5f5",
   "metadata": {},
   "outputs": [],
   "source": [
    "p1.name"
   ]
  },
  {
   "cell_type": "code",
   "execution_count": null,
   "id": "f899e098-825d-4326-b430-a65c2493c0c4",
   "metadata": {},
   "outputs": [],
   "source": [
    "p1.age"
   ]
  },
  {
   "cell_type": "code",
   "execution_count": null,
   "id": "f5a57ecd-a905-4780-b8ab-49fbbdac870f",
   "metadata": {},
   "outputs": [],
   "source": [
    "import numpy as np\n",
    "import random\n",
    "import pandas as pd\n",
    "import statistics as st"
   ]
  },
  {
   "cell_type": "code",
   "execution_count": null,
   "id": "7acc6f1c-4de1-4dad-a1b8-3f7e1d2f1315",
   "metadata": {},
   "outputs": [],
   "source": [
    "list = [1,2,3,4,5]"
   ]
  },
  {
   "cell_type": "code",
   "execution_count": null,
   "id": "e21942bb-fb80-4c20-9061-02c236e701bc",
   "metadata": {},
   "outputs": [],
   "source": [
    "list"
   ]
  },
  {
   "cell_type": "code",
   "execution_count": null,
   "id": "738e2f1e-b6af-458d-a352-4b1cd4cc4a14",
   "metadata": {},
   "outputs": [],
   "source": [
    "np.array(list)"
   ]
  },
  {
   "cell_type": "code",
   "execution_count": null,
   "id": "e1086c6e-490f-4df7-a9a8-44c9f4b5910a",
   "metadata": {},
   "outputs": [],
   "source": [
    "salary = [random.randint(50000, 100000) for x in range(10_000_000)]"
   ]
  },
  {
   "cell_type": "code",
   "execution_count": null,
   "id": "33886d4e-eb8c-4cdc-986f-91fd72d41587",
   "metadata": {},
   "outputs": [],
   "source": [
    "%%timeit\n",
    "st.mean(salary)"
   ]
  },
  {
   "cell_type": "code",
   "execution_count": null,
   "id": "df3c8d22-a7d0-4373-9103-28cde3d2e068",
   "metadata": {},
   "outputs": [],
   "source": [
    "%%timeit\n",
    "\n",
    "np.mean(salary)"
   ]
  },
  {
   "cell_type": "code",
   "execution_count": null,
   "id": "094f2808-f977-4504-ac41-c6ea875bd851",
   "metadata": {},
   "outputs": [],
   "source": [
    "a = np.array([1,2,3,4,5])\n",
    "a"
   ]
  },
  {
   "cell_type": "code",
   "execution_count": null,
   "id": "bdbc90f6-167b-497e-b1b0-5e39fa387ca8",
   "metadata": {},
   "outputs": [],
   "source": [
    "c = np.array([[1.0,2.0,3.0], [4.0,5.0,6.0]])\n",
    "type(c)"
   ]
  },
  {
   "cell_type": "code",
   "execution_count": null,
   "id": "00d4ce0c-a199-4644-83e0-699b49d22890",
   "metadata": {},
   "outputs": [],
   "source": [
    "c"
   ]
  },
  {
   "cell_type": "code",
   "execution_count": null,
   "id": "7e180a0c-c3f9-4a79-874e-9c4886bd92df",
   "metadata": {},
   "outputs": [],
   "source": [
    "# get dimension\n",
    "c.ndim\n",
    "\n",
    "# get shape\n",
    "c.shape\n",
    "\n",
    "# get size\n",
    "c.dtype"
   ]
  },
  {
   "cell_type": "code",
   "execution_count": null,
   "id": "b9b97b06-59e4-463a-8477-638d6b4182a8",
   "metadata": {},
   "outputs": [],
   "source": [
    "a = np.array([[1,2,3,4,5,6,7], [8,9,10,11,12,13,14]])\n",
    "a"
   ]
  },
  {
   "cell_type": "code",
   "execution_count": null,
   "id": "f5c376a2-92a8-4f48-83b9-6ac998d3f6e4",
   "metadata": {},
   "outputs": [],
   "source": [
    "a.shape\n",
    "\n",
    "\n",
    "\n",
    "\n"
   ]
  },
  {
   "cell_type": "code",
   "execution_count": null,
   "id": "8e0728e3-2eb0-4d43-a865-38d4f64326a8",
   "metadata": {},
   "outputs": [],
   "source": [
    "a[0, 6]"
   ]
  },
  {
   "cell_type": "code",
   "execution_count": null,
   "id": "d0d4dceb-4dc4-4d49-8395-850bff254322",
   "metadata": {},
   "outputs": [],
   "source": [
    "a[0, :]"
   ]
  },
  {
   "cell_type": "code",
   "execution_count": null,
   "id": "82b68798-f267-4253-b05b-10426ec12349",
   "metadata": {},
   "outputs": [],
   "source": [
    "a[0,1:6:2]"
   ]
  },
  {
   "cell_type": "code",
   "execution_count": null,
   "id": "7237ed08-69fc-4922-bafa-fe8c7af39e42",
   "metadata": {},
   "outputs": [],
   "source": [
    "b = np.array([[[1,2], [3,4]], [[5,6], [7,8]]])\n",
    "b"
   ]
  },
  {
   "cell_type": "code",
   "execution_count": null,
   "id": "5eac3dce-980d-41a1-9491-43082926db0a",
   "metadata": {},
   "outputs": [],
   "source": [
    "c = np.array([[[1,2], [3,4], [5,6]], [[7,8], [9,10], [11,12]]])\n",
    "c"
   ]
  },
  {
   "cell_type": "code",
   "execution_count": null,
   "id": "435997a4-5f07-45d4-8e26-0649f90ac687",
   "metadata": {},
   "outputs": [],
   "source": [
    "c[1, 1,1]"
   ]
  },
  {
   "cell_type": "code",
   "execution_count": null,
   "id": "70508a35-b54d-4022-9c6f-6b5ed2819ea9",
   "metadata": {},
   "outputs": [],
   "source": [
    "c[1,0,0]"
   ]
  },
  {
   "cell_type": "code",
   "execution_count": null,
   "id": "50bb1e5c-1969-4fb7-a999-0aade3948fad",
   "metadata": {},
   "outputs": [],
   "source": [
    "np.zeros((4,2,5))"
   ]
  },
  {
   "cell_type": "code",
   "execution_count": null,
   "id": "a7e15392-7cea-4138-8342-936b019ac52b",
   "metadata": {},
   "outputs": [],
   "source": [
    "np.full((1,2, 3), 13)"
   ]
  },
  {
   "cell_type": "code",
   "execution_count": null,
   "id": "2992d37c-2a30-426d-bb3e-715bbbe6f5ff",
   "metadata": {},
   "outputs": [],
   "source": [
    "np.random.rand(5,2)"
   ]
  },
  {
   "cell_type": "code",
   "execution_count": null,
   "id": "1873b671-025f-4397-bcef-6193a36c05ce",
   "metadata": {},
   "outputs": [],
   "source": [
    "np.random.randint(10000, size=(5,3))\n",
    "\n"
   ]
  },
  {
   "cell_type": "code",
   "execution_count": 1,
   "id": "da43330f-affb-4615-a3e3-71552a1b5b64",
   "metadata": {},
   "outputs": [],
   "source": []
  },
  {
   "cell_type": "code",
   "execution_count": 2,
   "id": "d8b809cf-1676-4ddc-925d-c442b61085e5",
   "metadata": {},
   "outputs": [
    {
     "name": "stdout",
     "output_type": "stream",
     "text": [
      "<class 'pandas.core.frame.DataFrame'>\n",
      "RangeIndex: 785741 entries, 0 to 785740\n",
      "Data columns (total 17 columns):\n",
      " #   Column                 Non-Null Count   Dtype         \n",
      "---  ------                 --------------   -----         \n",
      " 0   job_title_short        785741 non-null  object        \n",
      " 1   job_title              785740 non-null  object        \n",
      " 2   job_location           784696 non-null  object        \n",
      " 3   job_via                785733 non-null  object        \n",
      " 4   job_schedule_type      773074 non-null  object        \n",
      " 5   job_work_from_home     785741 non-null  bool          \n",
      " 6   search_location        785741 non-null  object        \n",
      " 7   job_posted_date        785741 non-null  datetime64[ns]\n",
      " 8   job_no_degree_mention  785741 non-null  bool          \n",
      " 9   job_health_insurance   785741 non-null  bool          \n",
      " 10  job_country            785692 non-null  object        \n",
      " 11  salary_rate            33067 non-null   object        \n",
      " 12  salary_year_avg        22003 non-null   float64       \n",
      " 13  salary_hour_avg        10662 non-null   float64       \n",
      " 14  company_name           785727 non-null  object        \n",
      " 15  job_skills             668704 non-null  object        \n",
      " 16  job_type_skills        668704 non-null  object        \n",
      "dtypes: bool(3), datetime64[ns](1), float64(2), object(11)\n",
      "memory usage: 86.2+ MB\n"
     ]
    }
   ],
   "source": [
    "df.info()\n",
    "\n",
    "\n"
   ]
  },
  {
   "cell_type": "code",
   "execution_count": 3,
   "id": "71c05771-d486-42d6-99fa-8236c27c0cbc",
   "metadata": {
    "tags": []
   },
   "outputs": [
    {
     "name": "stdout",
     "output_type": "stream",
     "text": [
      "[<matplotlib.lines.Line2D object at 0x000001A53D7113D0>]\n"
     ]
    },
    {
     "data": {
      "image/png": "[encoded data removed]",
      "text/plain": [
       "<Figure size 640x480 with 1 Axes>"
      ]
     },
     "metadata": {},
     "output_type": "display_data"
    }
   ],
   "source": [
    "x = np.arange(0, 5, 0.1)\n",
    "y = np.sin(x)\n",
    "print(plt.plot(x, y))"
   ]
  },
  {
   "cell_type": "code",
   "execution_count": 6,
   "id": "3af53f17-77d3-4e01-986d-6df53b7479a9",
   "metadata": {},
   "outputs": [
    {
     "data": {
      "text/plain": [
       "0        2023-06-16 13:44:15\n",
       "1        2023-01-14 13:18:07\n",
       "2        2023-10-10 13:14:55\n",
       "3        2023-07-04 13:01:41\n",
       "4        2023-08-07 14:29:36\n",
       "                 ...        \n",
       "785736   2023-03-13 06:16:16\n",
       "785737   2023-03-12 06:18:18\n",
       "785738   2023-03-12 06:32:36\n",
       "785739   2023-03-12 06:32:15\n",
       "785740   2023-03-13 06:16:31\n",
       "Name: job_posted_date, Length: 785741, dtype: datetime64[ns]"
      ]
     },
     "execution_count": 6,
     "metadata": {},
     "output_type": "execute_result"
    }
   ],
   "source": [
    "df.job_posted_date"
   ]
  },
  {
   "cell_type": "code",
   "execution_count": 15,
   "id": "f62bea09-22d3-4813-8a44-bc7933c5c685",
   "metadata": {
    "tags": []
   },
   "outputs": [],
   "source": [
    "job_counts = df.job_title_short.value_counts()\n",
    "job_counts = job_counts.sort_values(ascending = True)"
   ]
  },
  {
   "cell_type": "code",
   "execution_count": 11,
   "id": "1a09bbeb-ab0d-4b0c-88b4-afa573913126",
   "metadata": {
    "tags": []
   },
   "outputs": [
    {
     "data": {
      "text/plain": [
       "Data Analyst                 196075\n",
       "Data Engineer                186241\n",
       "Data Scientist               172286\n",
       "Business Analyst              49063\n",
       "Software Engineer             44929\n",
       "Senior Data Engineer          44563\n",
       "Senior Data Scientist         36957\n",
       "Senior Data Analyst           29216\n",
       "Machine Learning Engineer     14080\n",
       "Cloud Engineer                12331\n",
       "Name: job_title_short, dtype: int64"
      ]
     },
     "execution_count": 11,
     "metadata": {},
     "output_type": "execute_result"
    }
   ],
   "source": [
    "job_counts"
   ]
  },
  {
   "cell_type": "code",
   "execution_count": 19,
   "id": "f6e6dd3e-a8d5-4575-b673-5e615e5ebae6",
   "metadata": {
    "tags": []
   },
   "outputs": [
    {
     "data": {
      "image/png": "[encoded data removed]",
      "text/plain": [
       "<Figure size 640x480 with 1 Axes>"
      ]
     },
     "metadata": {},
     "output_type": "display_data"
    }
   ],
   "source": [
    "plt.barh(job_counts.index, job_counts )\n",
    "plt.title('Job Postings')\n",
    "plt.ylabel('jobs')\n",
    "plt.show()"
   ]
  },
  {
   "cell_type": "code",
   "execution_count": 23,
   "id": "3d27da63-477d-48ba-be3f-77a0fc5f78d7",
   "metadata": {
    "tags": []
   },
   "outputs": [
    {
     "data": {
      "text/plain": [
       "job_title_short\n",
       "Business Analyst              85000.0\n",
       "Cloud Engineer                90000.0\n",
       "Data Analyst                  90000.0\n",
       "Software Engineer             99150.0\n",
       "Machine Learning Engineer    106415.0\n",
       "Senior Data Analyst          111175.0\n",
       "Data Engineer                125000.0\n",
       "Data Scientist               127500.0\n",
       "Senior Data Engineer         147500.0\n",
       "Senior Data Scientist        155500.0\n",
       "Name: salary_year_avg, dtype: float64"
      ]
     },
     "execution_count": 23,
     "metadata": {},
     "output_type": "execute_result"
    }
   ],
   "source": []
  },
  {
   "cell_type": "code",
   "execution_count": 1,
   "id": "78407536-4441-47fb-ab6b-37ab37ef2478",
   "metadata": {
    "tags": []
   },
   "outputs": [
    {
     "data": {
      "image/png": "[encoded data removed]",
      "text/plain": [
       "<Figure size 640x480 with 1 Axes>"
      ]
     },
     "metadata": {},
     "output_type": "display_data"
    }
   ],
   "source": [
    "import pandas as pd\n",
    "import numpy as np\n",
    "import matplotlib.pyplot as plt\n",
    "df = pd.read_csv('C:/Users/HP/jupyter lab csvs/data_jobs.csv')\n",
    "df['job_posted_date'] = pd.to_datetime(df.job_posted_date)\n",
    "grouped = df.groupby('job_title_short')['salary_year_avg'].median().sort_values()\n",
    "grouped.plot(kind='barh')\n",
    "plt.xlabel('salary ($USD)')\n",
    "plt.ylabel('')\n",
    "plt.title('Median Salary by Job title')\n",
    "plt.show()"
   ]
  },
  {
   "cell_type": "code",
   "execution_count": 7,
   "id": "60d4b268-59b8-4cb2-aecf-718af79349e2",
   "metadata": {},
   "outputs": [
    {
     "data": {
      "text/html": [
       "<div>\n",
       "<style scoped>\n",
       "    .dataframe tbody tr th:only-of-type {\n",
       "        vertical-align: middle;\n",
       "    }\n",
       "\n",
       "    .dataframe tbody tr th {\n",
       "        vertical-align: top;\n",
       "    }\n",
       "\n",
       "    .dataframe thead th {\n",
       "        text-align: right;\n",
       "    }\n",
       "</style>\n",
       "<table border=\"1\" class=\"dataframe\">\n",
       "  <thead>\n",
       "    <tr style=\"text-align: right;\">\n",
       "      <th></th>\n",
       "      <th>job_title_short</th>\n",
       "      <th>job_title</th>\n",
       "      <th>job_location</th>\n",
       "      <th>job_via</th>\n",
       "      <th>job_schedule_type</th>\n",
       "      <th>job_work_from_home</th>\n",
       "      <th>search_location</th>\n",
       "      <th>job_posted_date</th>\n",
       "      <th>job_no_degree_mention</th>\n",
       "      <th>job_health_insurance</th>\n",
       "      <th>job_country</th>\n",
       "      <th>salary_rate</th>\n",
       "      <th>salary_year_avg</th>\n",
       "      <th>salary_hour_avg</th>\n",
       "      <th>company_name</th>\n",
       "      <th>job_skills</th>\n",
       "      <th>job_type_skills</th>\n",
       "      <th>job_posted_month_no</th>\n",
       "    </tr>\n",
       "  </thead>\n",
       "  <tbody>\n",
       "    <tr>\n",
       "      <th>1</th>\n",
       "      <td>Data Analyst</td>\n",
       "      <td>Data Analyst</td>\n",
       "      <td>Guadalajara, Jalisco, Mexico</td>\n",
       "      <td>via BeBee México</td>\n",
       "      <td>Full-time</td>\n",
       "      <td>False</td>\n",
       "      <td>Mexico</td>\n",
       "      <td>2023-01-14 13:18:07</td>\n",
       "      <td>False</td>\n",
       "      <td>False</td>\n",
       "      <td>Mexico</td>\n",
       "      <td>NaN</td>\n",
       "      <td>NaN</td>\n",
       "      <td>NaN</td>\n",
       "      <td>Hewlett Packard Enterprise</td>\n",
       "      <td>['r', 'python', 'sql', 'nosql', 'power bi', 't...</td>\n",
       "      <td>{'analyst_tools': ['power bi', 'tableau'], 'pr...</td>\n",
       "      <td>1</td>\n",
       "    </tr>\n",
       "    <tr>\n",
       "      <th>12</th>\n",
       "      <td>Data Analyst</td>\n",
       "      <td>Stagiaire Data Analyst (H/F) - Lyon (69006)</td>\n",
       "      <td>Lyon, France</td>\n",
       "      <td>via Jobijoba</td>\n",
       "      <td>Full-time and Internship</td>\n",
       "      <td>False</td>\n",
       "      <td>France</td>\n",
       "      <td>2023-12-22 13:24:41</td>\n",
       "      <td>False</td>\n",
       "      <td>False</td>\n",
       "      <td>France</td>\n",
       "      <td>NaN</td>\n",
       "      <td>NaN</td>\n",
       "      <td>NaN</td>\n",
       "      <td>Engie</td>\n",
       "      <td>['sql', 'php', 'excel', 'power bi', 'sap', 'ji...</td>\n",
       "      <td>{'analyst_tools': ['excel', 'power bi', 'sap']...</td>\n",
       "      <td>12</td>\n",
       "    </tr>\n",
       "    <tr>\n",
       "      <th>18</th>\n",
       "      <td>Data Analyst</td>\n",
       "      <td>Data Analyst</td>\n",
       "      <td>Warsaw, Poland</td>\n",
       "      <td>via Praca Trabajo.org</td>\n",
       "      <td>Full-time</td>\n",
       "      <td>False</td>\n",
       "      <td>Poland</td>\n",
       "      <td>2023-10-16 13:36:54</td>\n",
       "      <td>False</td>\n",
       "      <td>False</td>\n",
       "      <td>Poland</td>\n",
       "      <td>NaN</td>\n",
       "      <td>NaN</td>\n",
       "      <td>NaN</td>\n",
       "      <td>Glovo</td>\n",
       "      <td>['sql', 'python', 'r', 'redshift', 'pandas', '...</td>\n",
       "      <td>{'analyst_tools': ['excel', 'looker', 'tableau...</td>\n",
       "      <td>10</td>\n",
       "    </tr>\n",
       "    <tr>\n",
       "      <th>31</th>\n",
       "      <td>Data Analyst</td>\n",
       "      <td>Stage - Data Analyst F/H</td>\n",
       "      <td>Paris, France</td>\n",
       "      <td>via LinkedIn</td>\n",
       "      <td>Full-time and Internship</td>\n",
       "      <td>False</td>\n",
       "      <td>France</td>\n",
       "      <td>2023-10-19 13:59:31</td>\n",
       "      <td>False</td>\n",
       "      <td>False</td>\n",
       "      <td>France</td>\n",
       "      <td>NaN</td>\n",
       "      <td>NaN</td>\n",
       "      <td>NaN</td>\n",
       "      <td>GROUPE BON MARCHÉ : Le Bon Marché Rive Gauche ...</td>\n",
       "      <td>['sql']</td>\n",
       "      <td>{'programming': ['sql']}</td>\n",
       "      <td>10</td>\n",
       "    </tr>\n",
       "    <tr>\n",
       "      <th>34</th>\n",
       "      <td>Data Analyst</td>\n",
       "      <td>Data Analyst als Marketing Manager Automation ...</td>\n",
       "      <td>Erlangen, Germany</td>\n",
       "      <td>via Central Illinois Proud Jobs</td>\n",
       "      <td>Full-time</td>\n",
       "      <td>False</td>\n",
       "      <td>Germany</td>\n",
       "      <td>2023-02-23 13:31:28</td>\n",
       "      <td>True</td>\n",
       "      <td>False</td>\n",
       "      <td>Germany</td>\n",
       "      <td>NaN</td>\n",
       "      <td>NaN</td>\n",
       "      <td>NaN</td>\n",
       "      <td>DEFACTO GmbH</td>\n",
       "      <td>['sap']</td>\n",
       "      <td>{'analyst_tools': ['sap']}</td>\n",
       "      <td>2</td>\n",
       "    </tr>\n",
       "    <tr>\n",
       "      <th>...</th>\n",
       "      <td>...</td>\n",
       "      <td>...</td>\n",
       "      <td>...</td>\n",
       "      <td>...</td>\n",
       "      <td>...</td>\n",
       "      <td>...</td>\n",
       "      <td>...</td>\n",
       "      <td>...</td>\n",
       "      <td>...</td>\n",
       "      <td>...</td>\n",
       "      <td>...</td>\n",
       "      <td>...</td>\n",
       "      <td>...</td>\n",
       "      <td>...</td>\n",
       "      <td>...</td>\n",
       "      <td>...</td>\n",
       "      <td>...</td>\n",
       "      <td>...</td>\n",
       "    </tr>\n",
       "    <tr>\n",
       "      <th>785703</th>\n",
       "      <td>Data Analyst</td>\n",
       "      <td>Data Analyst - CRYPTOGRAPHY - Full-time</td>\n",
       "      <td>Anywhere</td>\n",
       "      <td>via Snagajob</td>\n",
       "      <td>Full-time</td>\n",
       "      <td>True</td>\n",
       "      <td>Texas, United States</td>\n",
       "      <td>2023-01-28 06:02:55</td>\n",
       "      <td>True</td>\n",
       "      <td>False</td>\n",
       "      <td>United States</td>\n",
       "      <td>NaN</td>\n",
       "      <td>NaN</td>\n",
       "      <td>NaN</td>\n",
       "      <td>Axelon Services Corporation</td>\n",
       "      <td>NaN</td>\n",
       "      <td>NaN</td>\n",
       "      <td>1</td>\n",
       "    </tr>\n",
       "    <tr>\n",
       "      <th>785705</th>\n",
       "      <td>Data Analyst</td>\n",
       "      <td>Expert Business Data Analyst - Now Hiring</td>\n",
       "      <td>Oakland, CA</td>\n",
       "      <td>via Snagajob</td>\n",
       "      <td>Full-time</td>\n",
       "      <td>False</td>\n",
       "      <td>California, United States</td>\n",
       "      <td>2023-01-09 06:00:25</td>\n",
       "      <td>False</td>\n",
       "      <td>False</td>\n",
       "      <td>United States</td>\n",
       "      <td>NaN</td>\n",
       "      <td>NaN</td>\n",
       "      <td>NaN</td>\n",
       "      <td>PG&amp;E Corporation</td>\n",
       "      <td>['sql', 'python', 'tableau']</td>\n",
       "      <td>{'analyst_tools': ['tableau'], 'programming': ...</td>\n",
       "      <td>1</td>\n",
       "    </tr>\n",
       "    <tr>\n",
       "      <th>785715</th>\n",
       "      <td>Data Analyst</td>\n",
       "      <td>Amul Careers 2023 - Apply Online - Data Analys...</td>\n",
       "      <td>India</td>\n",
       "      <td>melalui Jobsleworld - Jobs In India - Job Vaca...</td>\n",
       "      <td>Pekerjaan tetap</td>\n",
       "      <td>False</td>\n",
       "      <td>India</td>\n",
       "      <td>2023-03-13 06:16:28</td>\n",
       "      <td>False</td>\n",
       "      <td>False</td>\n",
       "      <td>India</td>\n",
       "      <td>NaN</td>\n",
       "      <td>NaN</td>\n",
       "      <td>NaN</td>\n",
       "      <td>Amul</td>\n",
       "      <td>NaN</td>\n",
       "      <td>NaN</td>\n",
       "      <td>3</td>\n",
       "    </tr>\n",
       "    <tr>\n",
       "      <th>785717</th>\n",
       "      <td>Data Analyst</td>\n",
       "      <td>Data &amp; Analytics Architect (w/m/x)</td>\n",
       "      <td>Erfurt, Jerman</td>\n",
       "      <td>melalui LinkedIn</td>\n",
       "      <td>Pekerjaan tetap</td>\n",
       "      <td>False</td>\n",
       "      <td>Germany</td>\n",
       "      <td>2023-03-12 06:18:18</td>\n",
       "      <td>False</td>\n",
       "      <td>False</td>\n",
       "      <td>Germany</td>\n",
       "      <td>NaN</td>\n",
       "      <td>NaN</td>\n",
       "      <td>NaN</td>\n",
       "      <td>NTT DATA DACH</td>\n",
       "      <td>['aws', 'azure']</td>\n",
       "      <td>{'cloud': ['aws', 'azure']}</td>\n",
       "      <td>3</td>\n",
       "    </tr>\n",
       "    <tr>\n",
       "      <th>785737</th>\n",
       "      <td>Data Analyst</td>\n",
       "      <td>CRM Data Analyst</td>\n",
       "      <td>Bad Rodach, Jerman</td>\n",
       "      <td>melalui BeBee Deutschland</td>\n",
       "      <td>Pekerjaan tetap</td>\n",
       "      <td>False</td>\n",
       "      <td>Germany</td>\n",
       "      <td>2023-03-12 06:18:18</td>\n",
       "      <td>False</td>\n",
       "      <td>False</td>\n",
       "      <td>Germany</td>\n",
       "      <td>NaN</td>\n",
       "      <td>NaN</td>\n",
       "      <td>NaN</td>\n",
       "      <td>HABA FAMILYGROUP</td>\n",
       "      <td>['sas', 'sas', 'sql', 'excel']</td>\n",
       "      <td>{'analyst_tools': ['sas', 'excel'], 'programmi...</td>\n",
       "      <td>3</td>\n",
       "    </tr>\n",
       "  </tbody>\n",
       "</table>\n",
       "<p>196075 rows × 18 columns</p>\n",
       "</div>"
      ],
      "text/plain": [
       "       job_title_short                                          job_title  \\\n",
       "1         Data Analyst                                       Data Analyst   \n",
       "12        Data Analyst        Stagiaire Data Analyst (H/F) - Lyon (69006)   \n",
       "18        Data Analyst                                       Data Analyst   \n",
       "31        Data Analyst                           Stage - Data Analyst F/H   \n",
       "34        Data Analyst  Data Analyst als Marketing Manager Automation ...   \n",
       "...                ...                                                ...   \n",
       "785703    Data Analyst            Data Analyst - CRYPTOGRAPHY - Full-time   \n",
       "785705    Data Analyst          Expert Business Data Analyst - Now Hiring   \n",
       "785715    Data Analyst  Amul Careers 2023 - Apply Online - Data Analys...   \n",
       "785717    Data Analyst                 Data & Analytics Architect (w/m/x)   \n",
       "785737    Data Analyst                                   CRM Data Analyst   \n",
       "\n",
       "                        job_location  \\\n",
       "1       Guadalajara, Jalisco, Mexico   \n",
       "12                      Lyon, France   \n",
       "18                    Warsaw, Poland   \n",
       "31                     Paris, France   \n",
       "34                 Erlangen, Germany   \n",
       "...                              ...   \n",
       "785703                      Anywhere   \n",
       "785705                   Oakland, CA   \n",
       "785715                         India   \n",
       "785717                Erfurt, Jerman   \n",
       "785737            Bad Rodach, Jerman   \n",
       "\n",
       "                                                  job_via  \\\n",
       "1                                        via BeBee México   \n",
       "12                                           via Jobijoba   \n",
       "18                                  via Praca Trabajo.org   \n",
       "31                                           via LinkedIn   \n",
       "34                        via Central Illinois Proud Jobs   \n",
       "...                                                   ...   \n",
       "785703                                       via Snagajob   \n",
       "785705                                       via Snagajob   \n",
       "785715  melalui Jobsleworld - Jobs In India - Job Vaca...   \n",
       "785717                                   melalui LinkedIn   \n",
       "785737                          melalui BeBee Deutschland   \n",
       "\n",
       "               job_schedule_type  job_work_from_home  \\\n",
       "1                      Full-time               False   \n",
       "12      Full-time and Internship               False   \n",
       "18                     Full-time               False   \n",
       "31      Full-time and Internship               False   \n",
       "34                     Full-time               False   \n",
       "...                          ...                 ...   \n",
       "785703                 Full-time                True   \n",
       "785705                 Full-time               False   \n",
       "785715           Pekerjaan tetap               False   \n",
       "785717           Pekerjaan tetap               False   \n",
       "785737           Pekerjaan tetap               False   \n",
       "\n",
       "                  search_location     job_posted_date  job_no_degree_mention  \\\n",
       "1                          Mexico 2023-01-14 13:18:07                  False   \n",
       "12                         France 2023-12-22 13:24:41                  False   \n",
       "18                         Poland 2023-10-16 13:36:54                  False   \n",
       "31                         France 2023-10-19 13:59:31                  False   \n",
       "34                        Germany 2023-02-23 13:31:28                   True   \n",
       "...                           ...                 ...                    ...   \n",
       "785703       Texas, United States 2023-01-28 06:02:55                   True   \n",
       "785705  California, United States 2023-01-09 06:00:25                  False   \n",
       "785715                      India 2023-03-13 06:16:28                  False   \n",
       "785717                    Germany 2023-03-12 06:18:18                  False   \n",
       "785737                    Germany 2023-03-12 06:18:18                  False   \n",
       "\n",
       "        job_health_insurance    job_country salary_rate  salary_year_avg  \\\n",
       "1                      False         Mexico         NaN              NaN   \n",
       "12                     False         France         NaN              NaN   \n",
       "18                     False         Poland         NaN              NaN   \n",
       "31                     False         France         NaN              NaN   \n",
       "34                     False        Germany         NaN              NaN   \n",
       "...                      ...            ...         ...              ...   \n",
       "785703                 False  United States         NaN              NaN   \n",
       "785705                 False  United States         NaN              NaN   \n",
       "785715                 False          India         NaN              NaN   \n",
       "785717                 False        Germany         NaN              NaN   \n",
       "785737                 False        Germany         NaN              NaN   \n",
       "\n",
       "        salary_hour_avg                                       company_name  \\\n",
       "1                   NaN                         Hewlett Packard Enterprise   \n",
       "12                  NaN                                              Engie   \n",
       "18                  NaN                                              Glovo   \n",
       "31                  NaN  GROUPE BON MARCHÉ : Le Bon Marché Rive Gauche ...   \n",
       "34                  NaN                                       DEFACTO GmbH   \n",
       "...                 ...                                                ...   \n",
       "785703              NaN                        Axelon Services Corporation   \n",
       "785705              NaN                                   PG&E Corporation   \n",
       "785715              NaN                                               Amul   \n",
       "785717              NaN                                      NTT DATA DACH   \n",
       "785737              NaN                                   HABA FAMILYGROUP   \n",
       "\n",
       "                                               job_skills  \\\n",
       "1       ['r', 'python', 'sql', 'nosql', 'power bi', 't...   \n",
       "12      ['sql', 'php', 'excel', 'power bi', 'sap', 'ji...   \n",
       "18      ['sql', 'python', 'r', 'redshift', 'pandas', '...   \n",
       "31                                                ['sql']   \n",
       "34                                                ['sap']   \n",
       "...                                                   ...   \n",
       "785703                                                NaN   \n",
       "785705                       ['sql', 'python', 'tableau']   \n",
       "785715                                                NaN   \n",
       "785717                                   ['aws', 'azure']   \n",
       "785737                     ['sas', 'sas', 'sql', 'excel']   \n",
       "\n",
       "                                          job_type_skills  job_posted_month_no  \n",
       "1       {'analyst_tools': ['power bi', 'tableau'], 'pr...                    1  \n",
       "12      {'analyst_tools': ['excel', 'power bi', 'sap']...                   12  \n",
       "18      {'analyst_tools': ['excel', 'looker', 'tableau...                   10  \n",
       "31                               {'programming': ['sql']}                   10  \n",
       "34                             {'analyst_tools': ['sap']}                    2  \n",
       "...                                                   ...                  ...  \n",
       "785703                                                NaN                    1  \n",
       "785705  {'analyst_tools': ['tableau'], 'programming': ...                    1  \n",
       "785715                                                NaN                    3  \n",
       "785717                        {'cloud': ['aws', 'azure']}                    3  \n",
       "785737  {'analyst_tools': ['sas', 'excel'], 'programmi...                    3  \n",
       "\n",
       "[196075 rows x 18 columns]"
      ]
     },
     "execution_count": 7,
     "metadata": {},
     "output_type": "execute_result"
    }
   ],
   "source": [
    "df_da = df[df['job_title_short'] == 'Data Analyst'].copy()\n",
    "df_da['job_posted_month_no'] = df_da['job_posted_date'].dt.month\n",
    "df_da_explode = df_da.explode('job_skills')\n",
    "\n",
    "df_da_explode"
   ]
  },
  {
   "cell_type": "code",
   "execution_count": null,
   "id": "6b0a7f4e",
   "metadata": {},
   "outputs": [],
   "source": []
  }
 ],
 "metadata": {
  "kernelspec": {
   "display_name": "Python 3 (ipykernel)",
   "language": "python",
   "name": "python3"
  },
  "language_info": {
   "codemirror_mode": {
    "name": "ipython",
    "version": 3
   },
   "file_extension": ".py",
   "mimetype": "text/x-python",
   "name": "python",
   "nbconvert_exporter": "python",
   "pygments_lexer": "ipython3",
   "version": "3.12.4"
  }
 },
 "nbformat": 4,
 "nbformat_minor": 5
}
